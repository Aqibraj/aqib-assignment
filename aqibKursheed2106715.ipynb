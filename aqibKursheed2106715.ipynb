{
 "cells": [
  {
   "cell_type": "code",
   "execution_count": 2,
   "id": "31cc1a47",
   "metadata": {},
   "outputs": [],
   "source": [
    "# necessary libraries\n",
    "import numpy as np\n",
    "import matplotlib.pyplot as plt\n",
    "import pandas as pd"
   ]
  },
  {
   "cell_type": "code",
   "execution_count": 3,
   "id": "57cbf3ed",
   "metadata": {},
   "outputs": [],
   "source": [
    "# dataset\n",
    "dataset = pd.read_csv('gdp per capita.csv')\n",
    "\n",
    "'''here we select only two years to verify for all countries in world'''\n",
    "dataFrame = dataset[[\"2010\",\"2011\"]]\n",
    "\n",
    "\n",
    "'''may some countires skipped bcoz they include null values'''\n",
    "\n",
    "x = dataFrame.dropna()\n",
    "\n",
    "# make array\n",
    "X = x.values\n"
   ]
  },
  {
   "cell_type": "code",
   "execution_count": 5,
   "id": "eb8b24b7",
   "metadata": {},
   "outputs": [
    {
     "data": {
      "text/html": [
       "<div>\n",
       "<style scoped>\n",
       "    .dataframe tbody tr th:only-of-type {\n",
       "        vertical-align: middle;\n",
       "    }\n",
       "\n",
       "    .dataframe tbody tr th {\n",
       "        vertical-align: top;\n",
       "    }\n",
       "\n",
       "    .dataframe thead th {\n",
       "        text-align: right;\n",
       "    }\n",
       "</style>\n",
       "<table border=\"1\" class=\"dataframe\">\n",
       "  <thead>\n",
       "    <tr style=\"text-align: right;\">\n",
       "      <th></th>\n",
       "      <th>2010</th>\n",
       "      <th>2011</th>\n",
       "    </tr>\n",
       "  </thead>\n",
       "  <tbody>\n",
       "    <tr>\n",
       "      <th>count</th>\n",
       "      <td>256.000000</td>\n",
       "      <td>258.000000</td>\n",
       "    </tr>\n",
       "    <tr>\n",
       "      <th>mean</th>\n",
       "      <td>14749.500789</td>\n",
       "      <td>16198.068908</td>\n",
       "    </tr>\n",
       "    <tr>\n",
       "      <th>std</th>\n",
       "      <td>22142.907842</td>\n",
       "      <td>24251.351938</td>\n",
       "    </tr>\n",
       "    <tr>\n",
       "      <th>min</th>\n",
       "      <td>234.235539</td>\n",
       "      <td>249.577979</td>\n",
       "    </tr>\n",
       "    <tr>\n",
       "      <th>25%</th>\n",
       "      <td>1655.486199</td>\n",
       "      <td>1866.674318</td>\n",
       "    </tr>\n",
       "    <tr>\n",
       "      <th>50%</th>\n",
       "      <td>5475.194363</td>\n",
       "      <td>5979.460608</td>\n",
       "    </tr>\n",
       "    <tr>\n",
       "      <th>75%</th>\n",
       "      <td>16722.986730</td>\n",
       "      <td>19868.319985</td>\n",
       "    </tr>\n",
       "    <tr>\n",
       "      <th>max</th>\n",
       "      <td>150737.892500</td>\n",
       "      <td>169016.196100</td>\n",
       "    </tr>\n",
       "  </tbody>\n",
       "</table>\n",
       "</div>"
      ],
      "text/plain": [
       "                2010           2011\n",
       "count     256.000000     258.000000\n",
       "mean    14749.500789   16198.068908\n",
       "std     22142.907842   24251.351938\n",
       "min       234.235539     249.577979\n",
       "25%      1655.486199    1866.674318\n",
       "50%      5475.194363    5979.460608\n",
       "75%     16722.986730   19868.319985\n",
       "max    150737.892500  169016.196100"
      ]
     },
     "execution_count": 5,
     "metadata": {},
     "output_type": "execute_result"
    }
   ],
   "source": [
    "'''count total number of values on each year \n",
    "   mean values for both years for all countries\n",
    "   min and max value is also described\n",
    "   after which values is most in dataframe \n",
    "   is all about the description'''\n",
    "dataFrame.describe()"
   ]
  },
  {
   "cell_type": "code",
   "execution_count": 6,
   "id": "58b1bb43",
   "metadata": {
    "scrolled": true
   },
   "outputs": [
    {
     "data": {
      "text/plain": [
       "array([[0.68533719, 0.72822588],\n",
       "       [0.67826274, 0.73481947],\n",
       "       [0.67665961, 0.73629598],\n",
       "       [0.6714834 , 0.7410196 ],\n",
       "       [0.61373543, 0.78951177],\n",
       "       [0.67814813, 0.73492524],\n",
       "       [0.68593919, 0.72765887],\n",
       "       [0.68697377, 0.72668222],\n",
       "       [0.65409859, 0.7564093 ],\n",
       "       [0.62863141, 0.77770338],\n",
       "       [0.67417374, 0.73857279],\n",
       "       [0.70688255, 0.70733094],\n",
       "       [0.71534502, 0.69877142],\n",
       "       [0.63977005, 0.76856638],\n",
       "       [0.67375786, 0.7389522 ],\n",
       "       [0.63071677, 0.77601311],\n",
       "       [0.68433938, 0.72916364],\n",
       "       [0.68178273, 0.73155472],\n",
       "       [0.67588431, 0.73700773],\n",
       "       [0.6530977 , 0.75727366],\n",
       "       [0.67160516, 0.74090925],\n",
       "       [0.65768798, 0.75329046],\n",
       "       [0.67721588, 0.73578438],\n",
       "       [0.71257155, 0.70159945],\n",
       "       [0.67314294, 0.7395124 ],\n",
       "       [0.67880249, 0.7343209 ],\n",
       "       [0.69457916, 0.71941628],\n",
       "       [0.7214797 , 0.69243559],\n",
       "       [0.64021892, 0.76819251],\n",
       "       [0.64856515, 0.76115915],\n",
       "       [0.6983114 , 0.7157941 ],\n",
       "       [0.59976786, 0.80017405],\n",
       "       [0.66104296, 0.75034805],\n",
       "       [0.64532232, 0.7639104 ],\n",
       "       [0.66282922, 0.74877061],\n",
       "       [0.67333909, 0.7393338 ],\n",
       "       [0.67196363, 0.74058414],\n",
       "       [0.64546495, 0.76378989],\n",
       "       [0.65851798, 0.752565  ],\n",
       "       [0.62965799, 0.77687246],\n",
       "       [0.69813385, 0.71596727],\n",
       "       [0.67824219, 0.73483844],\n",
       "       [0.65330958, 0.75709088],\n",
       "       [0.65375667, 0.75670484],\n",
       "       [0.65372579, 0.75673152],\n",
       "       [0.67272244, 0.73989494],\n",
       "       [0.67027763, 0.74211044],\n",
       "       [0.66539468, 0.74649174],\n",
       "       [0.68206994, 0.73128694],\n",
       "       [0.68231507, 0.73105823],\n",
       "       [0.71205029, 0.70212847],\n",
       "       [0.69163922, 0.72224317],\n",
       "       [0.67409717, 0.73864268],\n",
       "       [0.66486492, 0.74696361],\n",
       "       [0.67920359, 0.73394992],\n",
       "       [0.70214665, 0.71203236],\n",
       "       [0.68486597, 0.72866906],\n",
       "       [0.68469869, 0.72882625],\n",
       "       [0.63468321, 0.77277243],\n",
       "       [0.63595585, 0.77172544],\n",
       "       [0.67920311, 0.73395037],\n",
       "       [0.6556961 , 0.75502491],\n",
       "       [0.63131793, 0.77552413],\n",
       "       [0.67065012, 0.74177383],\n",
       "       [0.66523561, 0.7466335 ],\n",
       "       [0.68789471, 0.72581049],\n",
       "       [0.67901882, 0.73412086],\n",
       "       [0.61518351, 0.78838395],\n",
       "       [0.69396989, 0.72000403],\n",
       "       [0.64250559, 0.76628099],\n",
       "       [0.69385608, 0.7201137 ],\n",
       "       [0.67789006, 0.7351633 ],\n",
       "       [0.74731086, 0.66447459],\n",
       "       [0.67272249, 0.7398949 ],\n",
       "       [0.64118496, 0.76738638],\n",
       "       [0.68010884, 0.73311115],\n",
       "       [0.68172986, 0.73160399],\n",
       "       [0.69208469, 0.72181631],\n",
       "       [0.63345366, 0.77378063],\n",
       "       [0.68436809, 0.7291367 ],\n",
       "       [0.62657219, 0.77936339],\n",
       "       [0.64255299, 0.76624125],\n",
       "       [0.71838732, 0.69564334],\n",
       "       [0.74837876, 0.66327161],\n",
       "       [0.6214624 , 0.78344399],\n",
       "       [0.6241553 , 0.7813003 ],\n",
       "       [0.72360404, 0.69021532],\n",
       "       [0.7054732 , 0.7087366 ],\n",
       "       [0.68188029, 0.73146379],\n",
       "       [0.66217899, 0.7493457 ],\n",
       "       [0.70516872, 0.70903955],\n",
       "       [0.68226811, 0.73110207],\n",
       "       [0.68123466, 0.73206511],\n",
       "       [0.67952781, 0.73364975],\n",
       "       [0.67380167, 0.73891224],\n",
       "       [0.68026149, 0.73296951],\n",
       "       [0.68999114, 0.72381781],\n",
       "       [0.6792307 , 0.73392483],\n",
       "       [0.68045073, 0.73279383],\n",
       "       [0.6500844 , 0.75986201],\n",
       "       [0.65554445, 0.75515659],\n",
       "       [0.71394603, 0.70020073],\n",
       "       [0.66619283, 0.74577953],\n",
       "       [0.65076143, 0.75928226],\n",
       "       [0.75188861, 0.65929016],\n",
       "       [0.66977605, 0.74256316],\n",
       "       [0.68142352, 0.73188933],\n",
       "       [0.68199402, 0.73135775],\n",
       "       [0.64682107, 0.76264179],\n",
       "       [0.61027863, 0.79218684],\n",
       "       [0.67148296, 0.74102   ],\n",
       "       [0.67357106, 0.73912247],\n",
       "       [0.68194039, 0.73140776],\n",
       "       [0.6771734 , 0.73582348],\n",
       "       [0.69619478, 0.71785293],\n",
       "       [0.67794509, 0.73511255],\n",
       "       [0.61486182, 0.78863486],\n",
       "       [0.70540996, 0.70879954],\n",
       "       [0.61651549, 0.78734278],\n",
       "       [0.66495838, 0.74688042],\n",
       "       [0.65819054, 0.75285139],\n",
       "       [0.6840389 , 0.72944553],\n",
       "       [0.67703529, 0.73595055],\n",
       "       [0.62146851, 0.78343914],\n",
       "       [0.65463527, 0.75594488],\n",
       "       [0.63770347, 0.77028195],\n",
       "       [0.71105022, 0.70314123],\n",
       "       [0.65212283, 0.75811332],\n",
       "       [0.90836508, 0.41817805],\n",
       "       [0.68898327, 0.72477725],\n",
       "       [0.66454667, 0.74724676],\n",
       "       [0.66420868, 0.7475472 ],\n",
       "       [0.82672717, 0.56260304],\n",
       "       [0.66602791, 0.74592682],\n",
       "       [0.65835746, 0.75270543],\n",
       "       [0.66474463, 0.74707067],\n",
       "       [0.6528035 , 0.75752729],\n",
       "       [0.6563385 , 0.75446654],\n",
       "       [0.63680157, 0.77102773],\n",
       "       [0.6403962 , 0.76804473],\n",
       "       [0.68164755, 0.73168068],\n",
       "       [0.65038414, 0.75960547],\n",
       "       [0.61720868, 0.78679949],\n",
       "       [0.68181872, 0.73152118],\n",
       "       [0.6655994 , 0.74630921],\n",
       "       [0.63796522, 0.77006518],\n",
       "       [0.66414628, 0.74760265],\n",
       "       [0.69646163, 0.71759403],\n",
       "       [0.67822878, 0.73485082],\n",
       "       [0.67249648, 0.74010032],\n",
       "       [0.682685  , 0.7307128 ],\n",
       "       [0.64817846, 0.76148846],\n",
       "       [0.66810963, 0.74406284],\n",
       "       [0.64675422, 0.76269849],\n",
       "       [0.68545992, 0.72811036],\n",
       "       [0.57553121, 0.81777982],\n",
       "       [0.71652062, 0.69756591],\n",
       "       [0.67409613, 0.73864362],\n",
       "       [0.57535865, 0.81790123],\n",
       "       [0.73898663, 0.67372009],\n",
       "       [0.62166641, 0.78328212],\n",
       "       [0.65071873, 0.75931886],\n",
       "       [0.65631705, 0.7544852 ],\n",
       "       [0.66681674, 0.74522174],\n",
       "       [0.6560811 , 0.7546904 ],\n",
       "       [0.69453335, 0.71946051],\n",
       "       [0.68065542, 0.73260372],\n",
       "       [0.67757562, 0.73545311],\n",
       "       [0.68113202, 0.73216062],\n",
       "       [0.67574704, 0.7371336 ],\n",
       "       [0.67232729, 0.74025402],\n",
       "       [0.68507581, 0.72847178],\n",
       "       [0.65709576, 0.75380711],\n",
       "       [0.59530361, 0.80350085],\n",
       "       [0.5866419 , 0.80984645],\n",
       "       [0.65947563, 0.75172594],\n",
       "       [0.68268794, 0.73071005],\n",
       "       [0.66750987, 0.74460095],\n",
       "       [0.63910524, 0.7691193 ],\n",
       "       [0.64657487, 0.76285054],\n",
       "       [0.6536141 , 0.75682799],\n",
       "       [0.65460731, 0.75596909],\n",
       "       [0.67093659, 0.74151473],\n",
       "       [0.68236952, 0.73100742],\n",
       "       [0.62937365, 0.77710283],\n",
       "       [0.67253348, 0.7400667 ],\n",
       "       [0.66500845, 0.74683583],\n",
       "       [0.69592192, 0.71811746],\n",
       "       [0.69625579, 0.71779376],\n",
       "       [0.63315257, 0.77402702],\n",
       "       [0.66383665, 0.7478776 ],\n",
       "       [0.65285374, 0.75748399],\n",
       "       [0.68239573, 0.73098295],\n",
       "       [0.63310709, 0.77406422],\n",
       "       [0.67008087, 0.74228811],\n",
       "       [0.59790748, 0.80156512],\n",
       "       [0.67388364, 0.73883749],\n",
       "       [0.67649401, 0.73644813],\n",
       "       [0.62998212, 0.77660964],\n",
       "       [0.69975816, 0.71437981],\n",
       "       [0.68115136, 0.73214262],\n",
       "       [0.65915903, 0.75200357],\n",
       "       [0.63747484, 0.77047117],\n",
       "       [0.66743172, 0.744671  ],\n",
       "       [0.67441961, 0.73834828],\n",
       "       [0.72466619, 0.68910007],\n",
       "       [0.64422732, 0.76483407],\n",
       "       [0.67545428, 0.73740187],\n",
       "       [0.71156452, 0.70262076],\n",
       "       [0.6754574 , 0.73739901],\n",
       "       [0.6456737 , 0.76361343],\n",
       "       [0.65595772, 0.75479764],\n",
       "       [0.70679299, 0.70742043],\n",
       "       [0.67458075, 0.73820106],\n",
       "       [0.68355403, 0.72989992],\n",
       "       [0.65644698, 0.75437216],\n",
       "       [0.67984331, 0.73335739],\n",
       "       [0.66333205, 0.74832519],\n",
       "       [0.96827187, 0.24989914],\n",
       "       [0.6936338 , 0.72032781],\n",
       "       [0.67158211, 0.74093013],\n",
       "       [0.63596377, 0.77171891],\n",
       "       [0.63753898, 0.7704181 ],\n",
       "       [0.67289337, 0.73973949],\n",
       "       [0.67876289, 0.7343575 ],\n",
       "       [0.66254655, 0.74902074],\n",
       "       [0.61781692, 0.78632198],\n",
       "       [0.66347468, 0.74819874],\n",
       "       [0.65253617, 0.75775758],\n",
       "       [0.71684763, 0.69722986],\n",
       "       [0.66120612, 0.75020428],\n",
       "       [0.67649401, 0.73644813],\n",
       "       [0.6754574 , 0.73739901],\n",
       "       [0.65914295, 0.75201767],\n",
       "       [0.69618441, 0.71786299],\n",
       "       [0.68516232, 0.72839041],\n",
       "       [0.63879081, 0.76938046],\n",
       "       [0.68925684, 0.72451709],\n",
       "       [0.70280892, 0.71137868],\n",
       "       [0.63909037, 0.76913166],\n",
       "       [0.64127953, 0.76730735],\n",
       "       [0.64423667, 0.7648262 ],\n",
       "       [0.69685459, 0.71721244],\n",
       "       [0.64740876, 0.76214296],\n",
       "       [0.70993553, 0.70426667],\n",
       "       [0.78375706, 0.62106752],\n",
       "       [0.71519667, 0.69892326],\n",
       "       [0.65383081, 0.75664078],\n",
       "       [0.66675193, 0.74527972],\n",
       "       [0.67439041, 0.73837495],\n",
       "       [0.67182525, 0.74070968],\n",
       "       [0.6476236 , 0.76196042],\n",
       "       [0.69663487, 0.71742586],\n",
       "       [0.67899036, 0.73414719],\n",
       "       [0.6649697 , 0.74687034],\n",
       "       [0.65512719, 0.75551861]])"
      ]
     },
     "execution_count": 6,
     "metadata": {},
     "output_type": "execute_result"
    }
   ],
   "source": [
    "# normalizing the dataset\n",
    "\n",
    "from sklearn import preprocessing\n",
    "\n",
    "'''normalize the dataset with builtin library of python sklearn using preprocessing'''\n",
    "normalized = preprocessing.normalize(X)\n",
    "normalized"
   ]
  },
  {
   "cell_type": "code",
   "execution_count": 15,
   "id": "31e5bb23",
   "metadata": {},
   "outputs": [
    {
     "name": "stderr",
     "output_type": "stream",
     "text": [
      "E:\\Files\\lib\\site-packages\\scipy\\optimize\\minpack.py:833: OptimizeWarning: Covariance of the parameters could not be estimated\n",
      "  warnings.warn('Covariance of the parameters could not be estimated',\n"
     ]
    },
    {
     "data": {
      "text/plain": [
       "<matplotlib.legend.Legend at 0x2873bdeaca0>"
      ]
     },
     "execution_count": 15,
     "metadata": {},
     "output_type": "execute_result"
    },
    {
     "data": {
      "image/png": "[encoded data removed]",
      "text/plain": [
       "<Figure size 432x288 with 1 Axes>"
      ]
     },
     "metadata": {
      "needs_background": "light"
     },
     "output_type": "display_data"
    }
   ],
   "source": [
    "#curve_fit() method\n",
    "\n",
    "#Import curve fitting package from scipy\n",
    "from scipy.optimize import curve_fit\n",
    "\n",
    "\n",
    "xdata = x[\"2010\"]\n",
    "ydata = x[\"2011\"]\n",
    "\n",
    "'''guassian function that use in curve fit this is chunk of function that use in future function \n",
    "    call this method to make curve fit that is builtin function of scipy'''\n",
    "def guass(x, A, B):\n",
    "    y = A*np.exp(-1*B*x**2)\n",
    "    return y\n",
    "param, cov = curve_fit(guass,xdata, ydata)\n",
    "\n",
    "A = param[0]\n",
    "B = param[1]\n",
    "\n",
    "#     fit y \n",
    "y = guass(x, A, B)\n",
    "\n",
    "#     plotting\n",
    "plt.plot(xdata, ydata, 'o', label='data')\n",
    "plt.plot(xdata, y, '-', label='fit')\n",
    "plt.legend()"
   ]
  },
  {
   "cell_type": "code",
   "execution_count": 18,
   "id": "df106053",
   "metadata": {},
   "outputs": [
    {
     "name": "stderr",
     "output_type": "stream",
     "text": [
      "E:\\Files\\lib\\site-packages\\sklearn\\cluster\\_kmeans.py:881: UserWarning: KMeans is known to have a memory leak on Windows with MKL, when there are less chunks than available threads. You can avoid it by setting the environment variable OMP_NUM_THREADS=1.\n",
      "  warnings.warn(\n"
     ]
    }
   ],
   "source": [
    "# prediction for future values\n",
    "from sklearn.cluster import KMeans\n",
    "\n",
    "'''how many clusters make from this dataset'''\n",
    "wcss = []\n",
    "for i in range(1,11):\n",
    "    kmeans = KMeans(n_clusters = i, init = \"k-means++\")\n",
    "    kmeans.fit(X)\n",
    "    wcss.append(kmeans.inertia_)"
   ]
  },
  {
   "cell_type": "code",
   "execution_count": 28,
   "id": "c489c887",
   "metadata": {},
   "outputs": [
    {
     "data": {
      "image/png": "[encoded data removed]",
      "text/plain": [
       "<Figure size 432x288 with 1 Axes>"
      ]
     },
     "metadata": {
      "needs_background": "light"
     },
     "output_type": "display_data"
    }
   ],
   "source": [
    "plt.plot(range(1,11),wcss)\n",
    "plt.show()"
   ]
  },
  {
   "cell_type": "code",
   "execution_count": 21,
   "id": "8da43d51",
   "metadata": {},
   "outputs": [
    {
     "data": {
      "text/plain": [
       "array([3, 0, 0, 0, 0, 0, 1, 0, 1, 3, 0, 0, 3, 1, 1, 0, 0, 1, 0, 0, 0, 0,\n",
       "       3, 3, 0, 0, 0, 4, 0, 3, 3, 1, 0, 0, 0, 1, 3, 4, 3, 0, 0, 0, 0, 0,\n",
       "       0, 0, 0, 0, 0, 0, 4, 1, 3, 1, 0, 0, 1, 0, 0, 0, 0, 0, 0, 3, 0, 0,\n",
       "       1, 0, 3, 3, 0, 1, 0, 1, 0, 1, 1, 0, 0, 1, 0, 0, 0, 0, 0, 3, 3, 0,\n",
       "       1, 0, 3, 0, 1, 1, 0, 0, 3, 0, 3, 0, 0, 0, 0, 0, 0, 4, 0, 1, 0, 0,\n",
       "       1, 1, 1, 0, 0, 1, 0, 0, 0, 0, 0, 3, 3, 1, 0, 0, 0, 0, 0, 0, 0, 0,\n",
       "       0, 2, 0, 0, 0, 0, 0, 3, 4, 3, 1, 0, 2, 0, 0, 0, 0, 0, 0, 0, 0, 0,\n",
       "       3, 0, 0, 0, 0, 3, 0, 0, 0, 0, 0, 1, 0, 1, 0, 0, 0, 1, 4, 0, 0, 1,\n",
       "       1, 3, 3, 0, 0, 0, 0, 0, 0, 3, 0, 3, 3, 0, 0, 0, 1, 4, 0, 3, 0, 0,\n",
       "       3, 0, 0, 1, 0, 0, 0, 1, 0, 0, 0, 0, 3, 0, 0, 3, 3, 1, 0, 3, 0, 3,\n",
       "       0, 0, 0, 0, 0, 0, 0, 0, 0, 0, 0, 0, 0, 3, 0, 3, 0, 0, 0, 0, 0, 3,\n",
       "       1, 0, 0, 3, 1, 0, 0, 0, 0, 0, 0, 0, 0, 0])"
      ]
     },
     "execution_count": 21,
     "metadata": {},
     "output_type": "execute_result"
    }
   ],
   "source": [
    "\n",
    "'''from above elbow chart we easily make 5 different clusters'''\n",
    "\n",
    "kmeans = KMeans(n_clusters = 5, init = \"k-means++\")\n",
    "y_kmeans = kmeans.fit_predict(X)\n",
    "y_kmeans"
   ]
  },
  {
   "cell_type": "code",
   "execution_count": 27,
   "id": "19764a98",
   "metadata": {},
   "outputs": [
    {
     "data": {
      "image/png": "[encoded data removed]",
      "text/plain": [
       "<Figure size 720x576 with 1 Axes>"
      ]
     },
     "metadata": {
      "needs_background": "light"
     },
     "output_type": "display_data"
    }
   ],
   "source": [
    "'''as the prediction above show which record belong to which cluster is mentioned in above prediction'''\n",
    "\n",
    "\n",
    "plt.figure(figsize = (10,8))\n",
    "plt.title(\"K Mean Clustering\")\n",
    "plt.scatter(X[y_kmeans==0,0], X[y_kmeans==0,1], s=100, c=\"black\")\n",
    "plt.scatter(X[y_kmeans==1,0], X[y_kmeans==1,1], s=100, c=\"purple\")\n",
    "plt.scatter(X[y_kmeans==2,0], X[y_kmeans==2,1], s=100, c=\"orange\")\n",
    "plt.scatter(X[y_kmeans==3,0], X[y_kmeans==3,1], s=100, c=\"red\")\n",
    "plt.scatter(X[y_kmeans==4,0], X[y_kmeans==4,1], s=100, c=\"blue\")\n",
    "plt.show()\n",
    "\n"
   ]
  },
  {
   "cell_type": "code",
   "execution_count": 26,
   "id": "16a04f05",
   "metadata": {},
   "outputs": [
    {
     "data": {
      "image/png": "[encoded data removed]",
      "text/plain": [
       "<Figure size 720x576 with 1 Axes>"
      ]
     },
     "metadata": {
      "needs_background": "light"
     },
     "output_type": "display_data"
    },
    {
     "data": {
      "image/png": "[encoded data removed]",
      "text/plain": [
       "<Figure size 720x576 with 1 Axes>"
      ]
     },
     "metadata": {
      "needs_background": "light"
     },
     "output_type": "display_data"
    },
    {
     "data": {
      "image/png": "[encoded data removed]",
      "text/plain": [
       "<Figure size 720x576 with 1 Axes>"
      ]
     },
     "metadata": {
      "needs_background": "light"
     },
     "output_type": "display_data"
    },
    {
     "data": {
      "image/png": "[encoded data removed]",
      "text/plain": [
       "<Figure size 720x576 with 1 Axes>"
      ]
     },
     "metadata": {
      "needs_background": "light"
     },
     "output_type": "display_data"
    },
    {
     "data": {
      "image/png": "[encoded data removed]",
      "text/plain": [
       "<Figure size 720x576 with 1 Axes>"
      ]
     },
     "metadata": {
      "needs_background": "light"
     },
     "output_type": "display_data"
    }
   ],
   "source": [
    "# Interpretation of the results.\n",
    "'''black show most elements of dataset,\n",
    "   red show after black in rich quantity\n",
    "   purple placed after red\n",
    "   then blue and orange'''\n",
    "clor = [\"black\",\"purple\", \"orange\",\"red\",\"blue\"]\n",
    "for i in range(5):\n",
    "    plt.figure(figsize=(10,8))\n",
    "    plt.title(f\"cluster{i+1}\")\n",
    "    plt.scatter(X[y_kmeans==i,0], X[y_kmeans==i,1], color=clor[i])\n",
    "    plt.show()"
   ]
  },
  {
   "cell_type": "code",
   "execution_count": null,
   "id": "48dc0bc2",
   "metadata": {},
   "outputs": [],
   "source": []
  }
 ],
 "metadata": {
  "kernelspec": {
   "display_name": "Python 3 (ipykernel)",
   "language": "python",
   "name": "python3"
  },
  "language_info": {
   "codemirror_mode": {
    "name": "ipython",
    "version": 3
   },
   "file_extension": ".py",
   "mimetype": "text/x-python",
   "name": "python",
   "nbconvert_exporter": "python",
   "pygments_lexer": "ipython3",
   "version": "3.9.7"
  }
 },
 "nbformat": 4,
 "nbformat_minor": 5
}
